{
 "cells": [
  {
   "cell_type": "code",
   "execution_count": 1,
   "id": "21bf1d04-c908-4fac-a281-fd8f629b39b2",
   "metadata": {},
   "outputs": [],
   "source": [
    "    # Developer: James Francois\n",
    "\n",
    "\n",
    "    # Course: LIS4369 \n",
    "\n",
    "\n",
    "    # Semester: FALL 2022"
   ]
  },
  {
   "cell_type": "code",
   "execution_count": 2,
   "id": "0ae2bbbf-38da-473d-8e64-883a9d4a2d6e",
   "metadata": {},
   "outputs": [
    {
     "name": "stdout",
     "output_type": "stream",
     "text": [
      "\n",
      "Program Requirements:\n",
      "1. Must use float data type for user input.2. Overtime rate is 1.5 times hourly rate (hours over 40).\n",
      "3. Holiday rate is 2.0 times hourly.\n",
      "4. Must format with dollar sign and round to 2 decimal places.\n",
      "5. Create at least three functions that are called by the program:\n",
      "\ta. main(): calls at least two other functions.\n",
      "\tb. get_requirements(): displays the program requirements.\n",
      "\tc. calculate_payroll(): calculates an indvidual one-week paycheck.\n",
      "\n"
     ]
    }
   ],
   "source": [
    "def get_requirements():\n",
    "    print(\"Payroll Calculator\")\n",
    "print(\"\\nProgram Requirements:\\n\"\n",
    "    + \"1. Must use float data type for user input.\"\n",
    "    + \"2. Overtime rate is 1.5 times hourly rate (hours over 40).\\n\"\n",
    "    + \"3. Holiday rate is 2.0 times hourly.\\n\"\n",
    "    + \"4. Must format with dollar sign and round to 2 decimal places.\\n\"\n",
    "    + \"5. Create at least three functions that are called by the program:\\n\"\n",
    "    +   \"\\ta. main(): calls at least two other functions.\\n\"\n",
    "    +   \"\\tb. get_requirements(): displays the program requirements.\\n\"\n",
    "    +   \"\\tc. calculate_payroll(): calculates an indvidual one-week paycheck.\\n\" )"
   ]
  },
  {
   "cell_type": "code",
   "execution_count": 3,
   "id": "b436da02-417a-43cc-9e50-bba4740bb6d8",
   "metadata": {},
   "outputs": [],
   "source": [
    "def calculate_payroll(week, holiday, pay):\n",
    "    week = int(week)\n",
    "    count = 0\n",
    "    pay1 = pay\n",
    "    overtime = pay * 1.5\n",
    "    holiday_pay = pay * 2.0\n",
    "    # calculated overtime hours using modulous\n",
    "    overtime_hours = week % 40\n",
    "    overtime_total = overtime * overtime_hours\n",
    "    holiday_total = holiday * holiday_pay\n",
    "    #iterating over individual hours 40 times\n",
    "    for week in range(39):\n",
    "        pay += pay1\n",
    "        count+=1\n",
    "    #total in arithmatic\n",
    "    total = pay + overtime_total + holiday_total\n",
    "    print()\n",
    "    #print statement with all values\n",
    "    print(f'''Base:\\t\\t ${pay:.2f}\n",
    "Overtime:\\t ${overtime_total:.2f}\n",
    "Holiday:\\t ${holiday_total:.2f}\n",
    "Gross:\\t\\t ${total:.2f}''')"
   ]
  },
  {
   "cell_type": "code",
   "execution_count": 4,
   "id": "d85965e4-8359-4bb5-b72b-e613328f25d3",
   "metadata": {},
   "outputs": [],
   "source": [
    "def main():\n",
    "    get_requirements()\n",
    "    print()\n",
    "    weeklyhrs = float(input('Enter hours worked: '))\n",
    "    holidayhrs = float(input('Enter holiday hours worked: '))\n",
    "    payhr = float(input('Enter hourly pay rate: '))\n",
    "    calculate_payroll(weeklyhrs, holidayhrs, payhr)"
   ]
  },
  {
   "cell_type": "code",
   "execution_count": 5,
   "id": "6cc4b851-db7e-4c0c-9dff-9981a174b3a8",
   "metadata": {},
   "outputs": [
    {
     "name": "stdout",
     "output_type": "stream",
     "text": [
      "Payroll Calculator\n",
      "\n"
     ]
    },
    {
     "name": "stdin",
     "output_type": "stream",
     "text": [
      "Enter hours worked:  40\n",
      "Enter holiday hours worked:  10\n",
      "Enter hourly pay rate:  10\n"
     ]
    },
    {
     "name": "stdout",
     "output_type": "stream",
     "text": [
      "\n",
      "Base:\t\t $400.00\n",
      "Overtime:\t $0.00\n",
      "Holiday:\t $200.00\n",
      "Gross:\t\t $600.00\n"
     ]
    }
   ],
   "source": [
    "if __name__ == \"__main__\":\n",
    "    main()"
   ]
  },
  {
   "cell_type": "code",
   "execution_count": null,
   "id": "39718867-6998-4606-83c0-d3b27ce9a842",
   "metadata": {},
   "outputs": [],
   "source": []
  }
 ],
 "metadata": {
  "kernelspec": {
   "display_name": "Python 3 (ipykernel)",
   "language": "python",
   "name": "python3"
  },
  "language_info": {
   "codemirror_mode": {
    "name": "ipython",
    "version": 3
   },
   "file_extension": ".py",
   "mimetype": "text/x-python",
   "name": "python",
   "nbconvert_exporter": "python",
   "pygments_lexer": "ipython3",
   "version": "3.9.12"
  }
 },
 "nbformat": 4,
 "nbformat_minor": 5
}
