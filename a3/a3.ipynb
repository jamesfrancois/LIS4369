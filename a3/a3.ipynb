{
 "cells": [
  {
   "cell_type": "code",
   "execution_count": null,
   "id": "8fd07fc5-a88d-4335-9b0e-91642d697b00",
   "metadata": {},
   "outputs": [],
   "source": [
    "def get_requirements():\n",
    "    print(\"Developer: James S. Francois\")\n",
    "    print(\"Painting Estimator\")\n",
    "    print(\"\\n1. Calculate home interior cost (without primer).\\n\")\n",
    "    print(\"\\n2. Must use float data types.\\n\" )\n",
    "    print(\"\\n3. Must use SQFT_PER_GALLON constant.\\n\")\n",
    "    print(\"\\n4. Must use iteration structure (aka loop).\\n\" )\n",
    "    print(\"\\n5. Format, right align, and round to two decimal places.\\n\")\n",
    "    print(\"\\n6. Create at least five functions that are called by the program:\\n\"\n",
    "        + \"a. main(): calls two other functions: get_requirements() and estimate_paint_cost()\\n\" \n",
    "        + \"b. get_requirements(): displays the program requirements.\\n\"\n",
    "        + \"c. estimate_painting_cost(): calculates interior home painting, and calls print function.\\n\"\n",
    "        + \"d. print_painting_estimate(): displays painting costs.\\n\"\n",
    "        + \"e. print_painting_percentage(): displays painting costs percentages.\\n\")\n",
    "    print()"
   ]
  },
  {
   "cell_type": "code",
   "execution_count": 1,
   "id": "c8204ed8-eb7c-4c57-a41e-7170de4b2573",
   "metadata": {},
   "outputs": [],
   "source": [
    "SQFT_PER_GALLON = 350.00"
   ]
  },
  {
   "cell_type": "code",
   "execution_count": 2,
   "id": "2c9ef276-adff-4f77-807f-b5d5babed6d6",
   "metadata": {},
   "outputs": [],
   "source": [
    "def estimate_painting_cost(inter, ppg, sq_rate):\n",
    "    number_of_gallons = inter / SQFT_PER_GALLON\n",
    "    paint_cost= number_of_gallons * ppg \n",
    "    tot_labor = sq_rate * inter\n",
    "    total_fee = tot_labor + paint_cost\n",
    "    return number_of_gallons, paint_cost, tot_labor, total_fee"
   ]
  },
  {
   "cell_type": "code",
   "execution_count": 3,
   "id": "af35543c-526c-4896-a19a-9d06365b98a4",
   "metadata": {},
   "outputs": [],
   "source": [
    "def print_painting_estimate(a, b, e):\n",
    "    print('Number of Gallons:{0:>13,.2f}'.format(a))\n",
    "    print('Paint per Gallon:{0:>5}{1:>9,.2f}'.format('$',e))\n",
    "    print('Labor per Sqft:{0:>7}{1:>9.2f}'.format('$',b))\n",
    "    "
   ]
  },
  {
   "cell_type": "code",
   "execution_count": 4,
   "id": "98f7ae6a-0b4d-476f-b160-1de80c433e84",
   "metadata": {},
   "outputs": [],
   "source": [
    "def print_painting_percentage(pc, labor, total):\n",
    "    paint_percent = pc/total\n",
    "    labor_percent = labor/total\n",
    "    total_percent = total/total\n",
    "    print('Cost\\t\\tAmount\\t\\tPercentage')\n",
    "    print('Paint:\\t${0:>15,.2f}{1:>15.2%}'.format(pc, paint_percent))\n",
    "    print('Labor:\\t${0:>15,.2f}{1:>15.2%}'.format(labor, labor_percent))\n",
    "    print('Total:\\t${0:>15,.2f}{1:>15.2%}'.format(total, total_percent))\n"
   ]
  },
  {
   "cell_type": "code",
   "execution_count": 5,
   "id": "67ddb560-2291-497f-a23b-9a40f96dbaf9",
   "metadata": {},
   "outputs": [],
   "source": [
    "def main():\n",
    "    \n",
    "    repeat = 'y'\n",
    "    while repeat.lower() =='y':\n",
    "        print()\n",
    "        total_interior = float(input('Enter total interior sq ft: '))\n",
    "        ppg_paint = float(input('Enter price per gallon of paint: '))\n",
    "        paint_hr_rate = float(input('Enter hourly painting rate per sq ft: '))\n",
    "        print()\n",
    "        if repeat.lower() == 'y':\n",
    "            n, p, tl, tt = estimate_painting_cost(total_interior, ppg_paint, paint_hr_rate)\n",
    "            print('Item\\t\\t\\tAmount')\n",
    "            print('Total Sqft:{0:>20,.2f}'.format(total_interior))\n",
    "            print('Sqft per Gallon:{0:>15,.2f}'.format(SQFT_PER_GALLON))\n",
    "            print_painting_estimate(n, paint_hr_rate, ppg_paint)\n",
    "            print()\n",
    "            print_painting_percentage(p, tl, tt)\n",
    "            repeat = input('would you like to repeat (y/n): ')\n",
    "        else:\n",
    "            break\n",
    "    print('Goodbye')"
   ]
  },
  {
   "cell_type": "code",
   "execution_count": null,
   "id": "71fe8c0c-6d5c-424a-90b0-760be8435ce2",
   "metadata": {},
   "outputs": [
    {
     "name": "stdout",
     "output_type": "stream",
     "text": [
      "\n"
     ]
    },
    {
     "name": "stdin",
     "output_type": "stream",
     "text": [
      "Enter total interior sq ft:  2500\n",
      "Enter price per gallon of paint:  30\n",
      "Enter hourly painting rate per sq ft:  2\n"
     ]
    },
    {
     "name": "stdout",
     "output_type": "stream",
     "text": [
      "\n",
      "Item\t\t\tAmount\n",
      "Total Sqft:            2,500.00\n",
      "Sqft per Gallon:         350.00\n",
      "Number of Gallons:         7.14\n",
      "Paint per Gallon:    $    30.00\n",
      "Labor per Sqft:      $     2.00\n",
      "\n",
      "Cost\t\tAmount\t\tPercentage\n",
      "Paint:\t$         214.29          4.11%\n",
      "Labor:\t$       5,000.00         95.89%\n",
      "Total:\t$       5,214.29        100.00%\n"
     ]
    },
    {
     "name": "stdin",
     "output_type": "stream",
     "text": [
      "would you like to repeat (y/n):  n\n"
     ]
    },
    {
     "name": "stdout",
     "output_type": "stream",
     "text": [
      "Goodbye\n"
     ]
    }
   ],
   "source": [
    "if __name__ == \"__main__\":\n",
    "    main()"
   ]
  },
  {
   "cell_type": "code",
   "execution_count": null,
   "id": "a7741336-745c-4d25-ac21-357903845d13",
   "metadata": {},
   "outputs": [],
   "source": []
  }
 ],
 "metadata": {
  "kernelspec": {
   "display_name": "Python 3 (ipykernel)",
   "language": "python",
   "name": "python3"
  },
  "language_info": {
   "codemirror_mode": {
    "name": "ipython",
    "version": 3
   },
   "file_extension": ".py",
   "mimetype": "text/x-python",
   "name": "python",
   "nbconvert_exporter": "python",
   "pygments_lexer": "ipython3",
   "version": "3.9.12"
  }
 },
 "nbformat": 4,
 "nbformat_minor": 5
}
