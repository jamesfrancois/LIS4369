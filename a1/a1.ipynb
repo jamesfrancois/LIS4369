{
 "cells": [
  {
   "cell_type": "code",
   "execution_count": 1,
   "id": "95a47072-c3de-46d3-8583-a6a3a6239649",
   "metadata": {},
   "outputs": [
    {
     "name": "stdout",
     "output_type": "stream",
     "text": [
      "Tip Calculator\n"
     ]
    }
   ],
   "source": [
    "print(\"Tip Calculator\")\n",
    " \n",
    "    # Developer: James Francois\n",
    "\n",
    "\n",
    "    # Course: LIS4369 \n",
    "\n",
    "\n",
    "    # Semester: FALL 2022"
   ]
  },
  {
   "cell_type": "code",
   "execution_count": 2,
   "id": "3f497b42-7e11-4676-a8aa-c7a9aa43e9c0",
   "metadata": {},
   "outputs": [
    {
     "name": "stdout",
     "output_type": "stream",
     "text": [
      "\n",
      "Program Requirements: \n",
      "1. Must use float data type or user input (except, \"Party Number\").\n",
      "2. Must round calculations to two decimal places.\n",
      "3. Must format currency with dollar sign, and two decimal places.\n"
     ]
    }
   ],
   "source": [
    "print(\"\\nProgram Requirements: \\n\"\n",
    "    + \"1. Must use float data type or user input (except, \\\"Party Number\\\").\\n\"\n",
    "    + \"2. Must round calculations to two decimal places.\\n\"\n",
    "    + \"3. Must format currency with dollar sign, and two decimal places.\")"
   ]
  },
  {
   "cell_type": "code",
   "execution_count": 3,
   "id": "0e5756ab-13ce-41b4-a407-b91e4c1fd53d",
   "metadata": {},
   "outputs": [
    {
     "name": "stdout",
     "output_type": "stream",
     "text": [
      "\n",
      "User Input:\n"
     ]
    },
    {
     "name": "stdin",
     "output_type": "stream",
     "text": [
      "Cost of meal:  100\n",
      "Tax percent:  7\n",
      "Tip percent:  20\n",
      "Party number: 4\n"
     ]
    }
   ],
   "source": [
    "print(\"\\nUser Input:\")\n",
    "meal_cost= float(input(\"Cost of meal: \"))\n",
    "tax_percent= float(input(\"Tax percent: \"))\n",
    "tip_percent= float(input(\"Tip percent: \"))    \n",
    "people_num= int(input(\"Party number:\"))"
   ]
  },
  {
   "cell_type": "code",
   "execution_count": 4,
   "id": "a20c783a-3d5f-4a36-9b07-2442e9b59b0d",
   "metadata": {},
   "outputs": [],
   "source": [
    "#calculate tax tip and total number\n",
    "tax_amount= round(meal_cost * (tax_percent / 100), 2)\n",
    "due_amount= round(meal_cost + tax_amount, 2)\n",
    "tip_amount= round((due_amount) * (tip_percent / 100),\n",
    " 2)\n",
    "total= round(meal_cost + tax_amount + tip_amount, 2)\n",
    "split= round(total/people_num, 2)"
   ]
  },
  {
   "cell_type": "code",
   "execution_count": 5,
   "id": "3643b18f-ab88-4575-9570-00ac7e9a9938",
   "metadata": {},
   "outputs": [
    {
     "name": "stdout",
     "output_type": "stream",
     "text": [
      "\n",
      "Program Output:\n",
      "Subtotal:\t $100.00\n",
      "Tax:\t\t $7.00\n",
      "Amount Due:\t $107.00\n",
      "Gratuity:\t $21.40\n",
      "Total:\t\t $128.40\n",
      "Split(4):\t $32.10\n"
     ]
    }
   ],
   "source": [
    "print(\"\\nProgram Output:\")\n",
    "print(\"Subtotal:\\t\", \"${0:,.2f}\".format(meal_cost))\n",
    "print(\"Tax:\\t\\t\", \"${0:,.2f}\".format(tax_amount))\n",
    "print(\"Amount Due:\\t\", \"${0:,.2f}\".format(due_amount))\n",
    "print(\"Gratuity:\\t\", \"${0:,.2f}\".format(tip_amount))\n",
    "print(\"Total:\\t\\t\", \"${0:,.2f}\".format(total))\n",
    "print(\"Split\" + \"(\" + str(people_num) + \"):\\t\", \"${0:,.2f}\".format(split))"
   ]
  },
  {
   "cell_type": "code",
   "execution_count": null,
   "id": "a8ac13a8-6e9e-42cc-90ca-f783a0c4c834",
   "metadata": {},
   "outputs": [],
   "source": []
  }
 ],
 "metadata": {
  "kernelspec": {
   "display_name": "Python 3 (ipykernel)",
   "language": "python",
   "name": "python3"
  },
  "language_info": {
   "codemirror_mode": {
    "name": "ipython",
    "version": 3
   },
   "file_extension": ".py",
   "mimetype": "text/x-python",
   "name": "python",
   "nbconvert_exporter": "python",
   "pygments_lexer": "ipython3",
   "version": "3.9.12"
  }
 },
 "nbformat": 4,
 "nbformat_minor": 5
}
